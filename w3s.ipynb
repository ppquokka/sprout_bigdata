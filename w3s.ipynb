{
 "cells": [
  {
   "cell_type": "markdown",
   "id": "10f283fe-4bf5-4ad8-a45a-cc725fefc25c",
   "metadata": {},
   "source": [
    "## w3schools 자습"
   ]
  },
  {
   "cell_type": "code",
   "execution_count": 15,
   "id": "025f5564-b6c6-4862-b943-5e53dc053d52",
   "metadata": {},
   "outputs": [
    {
     "ename": "SyntaxError",
     "evalue": "invalid syntax (809737640.py, line 27)",
     "output_type": "error",
     "traceback": [
      "\u001b[1;36m  Cell \u001b[1;32mIn[15], line 27\u001b[1;36m\u001b[0m\n\u001b[1;33m    find = input(\"검색: \"):\u001b[0m\n\u001b[1;37m                        ^\u001b[0m\n\u001b[1;31mSyntaxError\u001b[0m\u001b[1;31m:\u001b[0m invalid syntax\n"
     ]
    }
   ],
   "source": [
    "txt = \"Hello, welcome to my world.\"\n",
    "\n",
    "\"\"\"\n",
    "if txt.find(\"q\", 1, 23) == -1:\n",
    " \tprint(\"q is not in this sentence.\")\n",
    "else :\n",
    "   \tprint(\"Find q!!.\")\n",
    "    \n",
    "\n",
    "if txt.find(\"l\", 1, 23) == -1:\n",
    " \tprint(\"l is not in this sentence.\")\n",
    "else :\n",
    "   \tprint(\"Find l!!.\")\n",
    "\n",
    "        \n",
    "print(txt.index(\"w\"))\n",
    "\n",
    "print(txt.find(\"w\"))\n",
    "\n",
    "\n",
    "if txt.index(\"w\", 2, 10) == -1:\n",
    "\tprint(\"w is not here...\")\n",
    "else :\n",
    "\tprint(txt.index(\"w\"))\n",
    "\"\"\"\n",
    "\n",
    "find = input(\"검색: \"):\n",
    "if txt.find(find) == -1:\n",
    "    print(f\"{find} is not here...\")\n",
    "else:\n",
    "    print(txt.find(find))"
   ]
  }
 ],
 "metadata": {
  "kernelspec": {
   "display_name": "Python 3 (ipykernel)",
   "language": "python",
   "name": "python3"
  },
  "language_info": {
   "codemirror_mode": {
    "name": "ipython",
    "version": 3
   },
   "file_extension": ".py",
   "mimetype": "text/x-python",
   "name": "python",
   "nbconvert_exporter": "python",
   "pygments_lexer": "ipython3",
   "version": "3.11.4"
  }
 },
 "nbformat": 4,
 "nbformat_minor": 5
}
